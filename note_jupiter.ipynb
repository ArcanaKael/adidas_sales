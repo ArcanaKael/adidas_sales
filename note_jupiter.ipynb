{
 "cells": [
  {
   "cell_type": "code",
   "execution_count": 1,
   "id": "535044aa",
   "metadata": {},
   "outputs": [],
   "source": [
    "import pandas as pd"
   ]
  },
  {
   "cell_type": "markdown",
   "id": "dd3cb0d5",
   "metadata": {},
   "source": [
    "# 1. Cek informasi dataset_raw"
   ]
  },
  {
   "cell_type": "code",
   "execution_count": 3,
   "id": "29a461e0",
   "metadata": {},
   "outputs": [],
   "source": [
    "df_raw = pd.read_csv('dataset_raw.csv')"
   ]
  },
  {
   "cell_type": "code",
   "execution_count": 4,
   "id": "ac421528",
   "metadata": {},
   "outputs": [
    {
     "name": "stdout",
     "output_type": "stream",
     "text": [
      "<class 'pandas.core.frame.DataFrame'>\n",
      "RangeIndex: 9648 entries, 0 to 9647\n",
      "Data columns (total 13 columns):\n",
      " #   Column            Non-Null Count  Dtype \n",
      "---  ------            --------------  ----- \n",
      " 0   Retailer          9648 non-null   object\n",
      " 1   Retailer ID       9648 non-null   int64 \n",
      " 2   Invoice Date      9648 non-null   object\n",
      " 3   Region            9648 non-null   object\n",
      " 4   State             9648 non-null   object\n",
      " 5   City              9648 non-null   object\n",
      " 6   Product           9648 non-null   object\n",
      " 7   Price per Unit    9648 non-null   object\n",
      " 8   Units Sold        9648 non-null   object\n",
      " 9   Total Sales       9648 non-null   object\n",
      " 10  Operating Profit  9648 non-null   object\n",
      " 11  Operating Margin  9648 non-null   object\n",
      " 12  Sales Method      9648 non-null   object\n",
      "dtypes: int64(1), object(12)\n",
      "memory usage: 980.0+ KB\n"
     ]
    }
   ],
   "source": [
    "df_raw.info()"
   ]
  },
  {
   "cell_type": "code",
   "execution_count": 7,
   "id": "13c8d2c0",
   "metadata": {},
   "outputs": [
    {
     "data": {
      "text/plain": [
       "Retailer            0\n",
       "Retailer ID         0\n",
       "Invoice Date        0\n",
       "Region              0\n",
       "State               0\n",
       "City                0\n",
       "Product             0\n",
       "Price per Unit      0\n",
       "Units Sold          0\n",
       "Total Sales         0\n",
       "Operating Profit    0\n",
       "Operating Margin    0\n",
       "Sales Method        0\n",
       "dtype: int64"
      ]
     },
     "execution_count": 7,
     "metadata": {},
     "output_type": "execute_result"
    }
   ],
   "source": [
    "# Cek jumlah missing value per kolom\n",
    "df_raw.isnull().sum()"
   ]
  },
  {
   "cell_type": "code",
   "execution_count": 9,
   "id": "8a5a6d40",
   "metadata": {},
   "outputs": [
    {
     "data": {
      "text/plain": [
       "0"
      ]
     },
     "execution_count": 9,
     "metadata": {},
     "output_type": "execute_result"
    }
   ],
   "source": [
    "# Cek apakah ada baris duplikat\n",
    "df_raw.duplicated().sum()"
   ]
  },
  {
   "cell_type": "markdown",
   "id": "c379da80",
   "metadata": {},
   "source": [
    "# 2. Cek informasi dataset_clean"
   ]
  },
  {
   "cell_type": "code",
   "execution_count": 5,
   "id": "50c86980",
   "metadata": {},
   "outputs": [],
   "source": [
    "df_clean = pd.read_csv('dataset_clean.csv')"
   ]
  },
  {
   "cell_type": "code",
   "execution_count": 6,
   "id": "6f1cb548",
   "metadata": {},
   "outputs": [
    {
     "name": "stdout",
     "output_type": "stream",
     "text": [
      "<class 'pandas.core.frame.DataFrame'>\n",
      "RangeIndex: 9648 entries, 0 to 9647\n",
      "Data columns (total 13 columns):\n",
      " #   Column            Non-Null Count  Dtype  \n",
      "---  ------            --------------  -----  \n",
      " 0   retailer          9648 non-null   object \n",
      " 1   retailer_id       9648 non-null   int64  \n",
      " 2   invoice_date      9648 non-null   object \n",
      " 3   region            9648 non-null   object \n",
      " 4   state             9648 non-null   object \n",
      " 5   city              9648 non-null   object \n",
      " 6   product           9648 non-null   object \n",
      " 7   price_per_unit    9648 non-null   int64  \n",
      " 8   units_sold        9648 non-null   int64  \n",
      " 9   total_sales       9648 non-null   int64  \n",
      " 10  operating_profit  9648 non-null   int64  \n",
      " 11  operating_margin  9648 non-null   float64\n",
      " 12  sales_method      9648 non-null   object \n",
      "dtypes: float64(1), int64(5), object(7)\n",
      "memory usage: 980.0+ KB\n"
     ]
    }
   ],
   "source": [
    "df_clean.info()"
   ]
  },
  {
   "cell_type": "code",
   "execution_count": 13,
   "id": "c7e531db",
   "metadata": {},
   "outputs": [
    {
     "data": {
      "text/html": [
       "<div>\n",
       "<style scoped>\n",
       "    .dataframe tbody tr th:only-of-type {\n",
       "        vertical-align: middle;\n",
       "    }\n",
       "\n",
       "    .dataframe tbody tr th {\n",
       "        vertical-align: top;\n",
       "    }\n",
       "\n",
       "    .dataframe thead th {\n",
       "        text-align: right;\n",
       "    }\n",
       "</style>\n",
       "<table border=\"1\" class=\"dataframe\">\n",
       "  <thead>\n",
       "    <tr style=\"text-align: right;\">\n",
       "      <th></th>\n",
       "      <th>retailer</th>\n",
       "      <th>retailer_id</th>\n",
       "      <th>invoice_date</th>\n",
       "      <th>region</th>\n",
       "      <th>state</th>\n",
       "      <th>city</th>\n",
       "      <th>product</th>\n",
       "      <th>price_per_unit</th>\n",
       "      <th>units_sold</th>\n",
       "      <th>total_sales</th>\n",
       "      <th>operating_profit</th>\n",
       "      <th>operating_margin</th>\n",
       "      <th>sales_method</th>\n",
       "    </tr>\n",
       "  </thead>\n",
       "  <tbody>\n",
       "    <tr>\n",
       "      <th>0</th>\n",
       "      <td>Foot Locker</td>\n",
       "      <td>1185732</td>\n",
       "      <td>2020-01-01</td>\n",
       "      <td>Northeast</td>\n",
       "      <td>New York</td>\n",
       "      <td>New York</td>\n",
       "      <td>Men's Street Footwear</td>\n",
       "      <td>50</td>\n",
       "      <td>1200</td>\n",
       "      <td>600000</td>\n",
       "      <td>300000</td>\n",
       "      <td>50.0</td>\n",
       "      <td>In-store</td>\n",
       "    </tr>\n",
       "    <tr>\n",
       "      <th>1</th>\n",
       "      <td>Foot Locker</td>\n",
       "      <td>1185732</td>\n",
       "      <td>2020-01-02</td>\n",
       "      <td>Northeast</td>\n",
       "      <td>New York</td>\n",
       "      <td>New York</td>\n",
       "      <td>Men's Athletic Footwear</td>\n",
       "      <td>50</td>\n",
       "      <td>1000</td>\n",
       "      <td>500000</td>\n",
       "      <td>150000</td>\n",
       "      <td>30.0</td>\n",
       "      <td>In-store</td>\n",
       "    </tr>\n",
       "    <tr>\n",
       "      <th>2</th>\n",
       "      <td>Foot Locker</td>\n",
       "      <td>1185732</td>\n",
       "      <td>2020-01-03</td>\n",
       "      <td>Northeast</td>\n",
       "      <td>New York</td>\n",
       "      <td>New York</td>\n",
       "      <td>Women's Street Footwear</td>\n",
       "      <td>40</td>\n",
       "      <td>1000</td>\n",
       "      <td>400000</td>\n",
       "      <td>140000</td>\n",
       "      <td>35.0</td>\n",
       "      <td>In-store</td>\n",
       "    </tr>\n",
       "    <tr>\n",
       "      <th>3</th>\n",
       "      <td>Foot Locker</td>\n",
       "      <td>1185732</td>\n",
       "      <td>2020-01-04</td>\n",
       "      <td>Northeast</td>\n",
       "      <td>New York</td>\n",
       "      <td>New York</td>\n",
       "      <td>Women's Athletic Footwear</td>\n",
       "      <td>45</td>\n",
       "      <td>850</td>\n",
       "      <td>382500</td>\n",
       "      <td>133875</td>\n",
       "      <td>35.0</td>\n",
       "      <td>In-store</td>\n",
       "    </tr>\n",
       "    <tr>\n",
       "      <th>4</th>\n",
       "      <td>Foot Locker</td>\n",
       "      <td>1185732</td>\n",
       "      <td>2020-01-05</td>\n",
       "      <td>Northeast</td>\n",
       "      <td>New York</td>\n",
       "      <td>New York</td>\n",
       "      <td>Men's Apparel</td>\n",
       "      <td>60</td>\n",
       "      <td>900</td>\n",
       "      <td>540000</td>\n",
       "      <td>162000</td>\n",
       "      <td>30.0</td>\n",
       "      <td>In-store</td>\n",
       "    </tr>\n",
       "  </tbody>\n",
       "</table>\n",
       "</div>"
      ],
      "text/plain": [
       "      retailer  retailer_id invoice_date     region     state      city  \\\n",
       "0  Foot Locker      1185732   2020-01-01  Northeast  New York  New York   \n",
       "1  Foot Locker      1185732   2020-01-02  Northeast  New York  New York   \n",
       "2  Foot Locker      1185732   2020-01-03  Northeast  New York  New York   \n",
       "3  Foot Locker      1185732   2020-01-04  Northeast  New York  New York   \n",
       "4  Foot Locker      1185732   2020-01-05  Northeast  New York  New York   \n",
       "\n",
       "                     product  price_per_unit  units_sold  total_sales  \\\n",
       "0      Men's Street Footwear              50        1200       600000   \n",
       "1    Men's Athletic Footwear              50        1000       500000   \n",
       "2    Women's Street Footwear              40        1000       400000   \n",
       "3  Women's Athletic Footwear              45         850       382500   \n",
       "4              Men's Apparel              60         900       540000   \n",
       "\n",
       "   operating_profit  operating_margin sales_method  \n",
       "0            300000              50.0     In-store  \n",
       "1            150000              30.0     In-store  \n",
       "2            140000              35.0     In-store  \n",
       "3            133875              35.0     In-store  \n",
       "4            162000              30.0     In-store  "
      ]
     },
     "execution_count": 13,
     "metadata": {},
     "output_type": "execute_result"
    }
   ],
   "source": [
    "df_clean.head(5)"
   ]
  },
  {
   "cell_type": "code",
   "execution_count": 11,
   "id": "10ad211e",
   "metadata": {},
   "outputs": [
    {
     "name": "stdout",
     "output_type": "stream",
     "text": [
      "Dari tanggal: 2020-01-01 sampai 2021-12-31\n"
     ]
    }
   ],
   "source": [
    "# Cek rentang tanggal\n",
    "tanggal_awal = df_clean['invoice_date'].min()\n",
    "tanggal_akhir = df_clean['invoice_date'].max()\n",
    "\n",
    "print(f\"Dari tanggal: {tanggal_awal} sampai {tanggal_akhir}\")"
   ]
  },
  {
   "cell_type": "code",
   "execution_count": 14,
   "id": "917d646e",
   "metadata": {},
   "outputs": [
    {
     "data": {
      "text/plain": [
       "array(['Foot Locker', 'Walmart', 'Sports Direct', 'West Gear', \"Kohl's\",\n",
       "       'Amazon'], dtype=object)"
      ]
     },
     "execution_count": 14,
     "metadata": {},
     "output_type": "execute_result"
    }
   ],
   "source": [
    "df_clean['retailer'].unique()"
   ]
  },
  {
   "cell_type": "code",
   "execution_count": 15,
   "id": "624cdec3",
   "metadata": {},
   "outputs": [
    {
     "data": {
      "text/plain": [
       "array(['New York', 'Houston', 'San Francisco', 'Los Angeles', 'Chicago',\n",
       "       'Dallas', 'Philadelphia', 'Las Vegas', 'Denver', 'Seattle',\n",
       "       'Miami', 'Minneapolis', 'Billings', 'Knoxville', 'Omaha',\n",
       "       'Birmingham', 'Portland', 'Anchorage', 'Honolulu', 'Orlando',\n",
       "       'Albany', 'Cheyenne', 'Richmond', 'Detroit', 'St. Louis',\n",
       "       'Salt Lake City', 'Phoenix', 'New Orleans', 'Boise', 'Albuquerque',\n",
       "       'Atlanta', 'Charleston', 'Charlotte', 'Wichita', 'Columbus',\n",
       "       'Louisville', 'Jackson', 'Little Rock', 'Oklahoma City',\n",
       "       'Sioux Falls', 'Fargo', 'Des Moines', 'Milwaukee', 'Indianapolis',\n",
       "       'Baltimore', 'Wilmington', 'Newark', 'Hartford', 'Providence',\n",
       "       'Boston', 'Burlington', 'Manchester'], dtype=object)"
      ]
     },
     "execution_count": 15,
     "metadata": {},
     "output_type": "execute_result"
    }
   ],
   "source": [
    "df_clean['city'].unique()"
   ]
  },
  {
   "cell_type": "code",
   "execution_count": 17,
   "id": "3e470f8f",
   "metadata": {},
   "outputs": [
    {
     "data": {
      "text/plain": [
       "array(['Northeast', 'South', 'West', 'Midwest', 'Southeast'], dtype=object)"
      ]
     },
     "execution_count": 17,
     "metadata": {},
     "output_type": "execute_result"
    }
   ],
   "source": [
    "df_clean['region'].unique()"
   ]
  },
  {
   "cell_type": "code",
   "execution_count": 19,
   "id": "09020f64",
   "metadata": {},
   "outputs": [
    {
     "data": {
      "text/plain": [
       "50"
      ]
     },
     "execution_count": 19,
     "metadata": {},
     "output_type": "execute_result"
    }
   ],
   "source": [
    "df_clean['state'].nunique()"
   ]
  }
 ],
 "metadata": {
  "kernelspec": {
   "display_name": "base",
   "language": "python",
   "name": "python3"
  },
  "language_info": {
   "codemirror_mode": {
    "name": "ipython",
    "version": 3
   },
   "file_extension": ".py",
   "mimetype": "text/x-python",
   "name": "python",
   "nbconvert_exporter": "python",
   "pygments_lexer": "ipython3",
   "version": "3.9.21"
  }
 },
 "nbformat": 4,
 "nbformat_minor": 5
}
